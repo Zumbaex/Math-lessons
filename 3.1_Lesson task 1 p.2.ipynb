{
 "cells": [
  {
   "cell_type": "code",
   "execution_count": null,
   "id": "68afbfe9",
   "metadata": {},
   "outputs": [],
   "source": [
    "import math\n",
    "data = input('Введите координаты вектора через пробел: ')\n",
    "li_st = data.split(' ')\n",
    "result = math.sqrt(int(li_st[0])**2 + int(li_st[1])**2)\n",
    "print(f'Длина вектора: {round(result, 2)}')"
   ]
  }
 ],
 "metadata": {
  "kernelspec": {
   "display_name": "Python 3 (ipykernel)",
   "language": "python",
   "name": "python3"
  },
  "language_info": {
   "codemirror_mode": {
    "name": "ipython",
    "version": 3
   },
   "file_extension": ".py",
   "mimetype": "text/x-python",
   "name": "python",
   "nbconvert_exporter": "python",
   "pygments_lexer": "ipython3",
   "version": "3.10.2"
  }
 },
 "nbformat": 4,
 "nbformat_minor": 5
}
